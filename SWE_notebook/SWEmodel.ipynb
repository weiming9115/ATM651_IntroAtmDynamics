{
 "cells": [
  {
   "cell_type": "markdown",
   "metadata": {},
   "source": [
    "### ATM 651 Introduction of Atmospheric Dynamics: Project option\n",
    "University of Miami, RSMAS. 2019 Fall \n",
    "### 2D Shallow water equation model \n",
    "This notebook is adapted from [Dr. Paul Connally's webpage.](https://personalpages.manchester.ac.uk/staff/paul.connolly/teaching/practicals/shallow_water_equations.html)\n",
    "This model integrates the [shallow water equations](https://en.wikipedia.org/wiki/Shallow_water_equations) in conservative form in a channel using the [Lax-Wendroff method](https://en.wikipedia.org/wiki/Lax%E2%80%93Wendroff_method), a numerical method for the solution of hyperbolic partial differential equations, based on [finite differences](https://en.wikipedia.org/wiki/Finite_difference_method). It is second-order accurate in both space and time."
   ]
  },
  {
   "cell_type": "code",
   "execution_count": 95,
   "metadata": {},
   "outputs": [],
   "source": [
    "import numpy as np\n",
    "import sys\n",
    "import os\n",
    "from scipy.special import erfcinv as erfcinv\n",
    "import tqdm as tqdm\n",
    "import time\n",
    "import scipy.io as sio\n",
    "import lax_wendroff_Hsrc as lw"
   ]
  },
  {
   "cell_type": "code",
   "execution_count": 96,
   "metadata": {},
   "outputs": [],
   "source": [
    "import warnings\n",
    "warnings.simplefilter(\"ignore\")"
   ]
  },
  {
   "cell_type": "markdown",
   "metadata": {},
   "source": [
    "### Main code\n",
    "There are options for different simulations and flexible parameters"
   ]
  },
  {
   "cell_type": "code",
   "execution_count": 97,
   "metadata": {},
   "outputs": [],
   "source": [
    "# SECTION 0: Definitions (normally don't modify this section)\n",
    "\n",
    "# Possible initial conditions of the height field\n",
    "UNIFORM_WESTERLY=1;\n",
    "ZONAL_JET=2;\n",
    "REANALYSIS=3;\n",
    "GAUSSIAN_BLOB=4;\n",
    "STEP=5;\n",
    "CYCLONE_IN_WESTERLY=6;\n",
    "SHARP_SHEAR=7;\n",
    "EQUATORIAL_EASTERLY=8;\n",
    "SINUSOIDAL=9;\n",
    "HEAT_SRC=10\n",
    "\n",
    "# Possible orographies\n",
    "FLAT=0;\n",
    "SLOPE=1;\n",
    "GAUSSIAN_MOUNTAIN=2;\n",
    "EARTH_OROGRAPHY=3;\n",
    "SEA_MOUNT=4;\n",
    "\n",
    "# ------------------------------------------------------------------\n",
    "# SECTION 1: Configuration\n",
    "g    = 9.81;                # Acceleration due to gravity (m/s2)\n",
    "f    = 1e-4;              # Coriolis parameter (s-1)\n",
    "#f=0.;\n",
    "beta = 1.6e-11;             # Meridional gradient of f (s-1m-1)\n",
    "#beta=0.;\n",
    "#beta=5e-10;\n",
    "\n",
    "dt_mins              = 0.5;   # Timestep (minutes)\n",
    "output_interval_mins = 60.;  # Time between outputs (minutes)\n",
    "forecast_length_days = 4.;   # Total simulation length (days)\n",
    "\n",
    "orography = FLAT\n",
    "initial_conditions = HEAT_SRC; # Type of initial condition for height\n",
    "initially_geostrophic = True;   # Can be \"True\" or \"False\"\n",
    "add_random_height_noise = False; # Can be \"True\" or \"False\"\n",
    "\n",
    "# If you change the number of gridpoints then orography=EARTH_OROGRAPHY\n",
    "# or initial_conditions=REANALYSIS won't work\n",
    "nx=254; # Number of zonal gridpoints\n",
    "ny=50;  # Number of meridional gridpoints\n",
    "\n",
    "dx=100.0e3; # Zonal grid spacing (m)\n",
    "dy=dx;      # Meridional grid spacing\n",
    "\n",
    "# Specify the range of heights to plot in metres\n",
    "plot_height_range = np.array([9500., 10500.]);\n",
    "\n",
    "# ------------------------------------------------------------------\n",
    "# SECTION 2: Act on the configuration information\n",
    "dt = dt_mins*60.0; # Timestep (s)\n",
    "output_interval = output_interval_mins*60.0; # Time between outputs (s)\n",
    "forecast_length = forecast_length_days*24.0*3600.0; # Forecast length (s)\n",
    "nt = int(np.fix(forecast_length/dt)+1); # Number of timesteps\n",
    "timesteps_between_outputs = np.fix(output_interval/dt);\n",
    "noutput = int(np.ceil(nt/timesteps_between_outputs)); # Number of output frames\n",
    "\n",
    "x=np.mgrid[0:nx]*dx; # Zonal distance coordinate (m)\n",
    "y=np.mgrid[0:ny]*dy; # Meridional distance coordinate (m)\n",
    "[Y,X] = np.meshgrid(y,x); # Create matrices of the coordinate variables\n",
    "\n",
    "\n",
    "\n",
    "# Create the orography field \"H\"\n",
    "if orography == FLAT:\n",
    "    H = np.zeros((nx, ny));\n",
    "elif orography == SLOPE:\n",
    "    H = 9000.*2.*np.abs((np.mean(x)-X)/np.max(x));\n",
    "elif orography == GAUSSIAN_MOUNTAIN:\n",
    "    std_mountain_x = 5.*dx; # Std. dev. of mountain in x direction (m)\n",
    "    std_mountain_y = 5.*dy; # Std. dev. of mountain in y direction (m)\n",
    "    H = 4000.*np.exp(-0.5*((X-np.mean(x))/std_mountain_x)**2. \\\n",
    "                  -0.5*((Y-np.mean(y))/std_mountain_y)**2.);\n",
    "elif orography == SEA_MOUNT:\n",
    "    std_mountain = 40.0*dy; # Standard deviation of mountain (m)\n",
    "    H = 9250.*np.exp(-((X-np.mean(x))**2.+(Y-0.5*np.mean(y))**2.)/(2.*std_mountain**2.));\n",
    "elif orography == EARTH_OROGRAPHY:\n",
    "    mat_contents = sio.loadmat('digital_elevation_map.mat')\n",
    "    H = mat_contents['elevation'];\n",
    "    # Enforce periodic boundary conditions in x\n",
    "    H[[0, -1],:]=H[[-2, 1],:];\n",
    "else:\n",
    "    print('Don''t know what to do with orography=' + np.num2str(orography)); \n",
    "    sys.exit()\n",
    "\n",
    "\n",
    "\n",
    "# Create the initial height field \n",
    "if initial_conditions == UNIFORM_WESTERLY:\n",
    "    mean_wind_speed = 20.; # m/s\n",
    "    height = 10000.-(mean_wind_speed*f/g)*(Y-np.mean(y)); \n",
    "elif initial_conditions == SINUSOIDAL:\n",
    "    height = 10000.-350.*np.cos(Y/np.max(y)*4.*np.pi);\n",
    "elif initial_conditions == EQUATORIAL_EASTERLY:\n",
    "    height = 10000. - 50.*np.cos((Y-np.mean(y))*4.*np.pi/np.max(y));\n",
    "elif initial_conditions == ZONAL_JET:\n",
    "    height = 10000. - np.tanh(20.0*((Y-np.mean(y))/np.max(y)))*400.;\n",
    "elif initial_conditions == REANALYSIS:\n",
    "    mat_contents = sio.loadmat('reanalysis.mat')\n",
    "    pressure = mat_contents['pressure'];\n",
    "    height = 0.99*pressure/g;\n",
    "elif initial_conditions == GAUSSIAN_BLOB:\n",
    "    std_blob = 8.0*dy; # Standard deviation of blob (m)\n",
    "    height = 9750. + 1000.*np.exp(-((X-0.25*np.mean(x))**2.+(Y-np.mean(y))**2.)/(2.* \\\n",
    "                                                     std_blob**2.));\n",
    "elif initial_conditions == STEP:\n",
    "    height = 9750.*np.ones((nx, ny));\n",
    "    height[where((X<np.max(x)/5.) & (Y>np.max(y)/10.) & (Y<np.max(y)*0.9))] = 10500.;\n",
    "elif initial_conditions == CYCLONE_IN_WESTERLY:\n",
    "    mean_wind_speed = 20.; # m/s\n",
    "    std_blob = 7.0*dy; # Standard deviation of blob (m)\n",
    "    height = 10000.-(mean_wind_speed*f/g)*(Y-np.mean(y)) \\\n",
    "        - 500.*np.exp(-((X-0.5*np.mean(x))**2.+(Y-np.mean(y))**2.)/(2.*std_blob**2.));\n",
    "    max_wind_speed = 20.; # m/s\n",
    "    height = 10250.-(max_wind_speed*f/g)*(Y-np.mean(y))**2./np.max(y) \\\n",
    "        - 1000.*np.exp(-(0.25*(X-1.5*np.mean(x))**2.+(Y-0.5*np.mean(y))**2.)/(2.*std_blob**2.));\n",
    "elif initial_conditions == SHARP_SHEAR:\n",
    "    mean_wind_speed = 50.; # m/s\n",
    "    height = (mean_wind_speed*f/g)*np.abs(Y-np.mean(y));\n",
    "    height = 10000.+height-np.mean(height[:]);\n",
    "elif initial_conditions == HEAT_SRC:\n",
    "    mean_wind_speed = 20.; # m/s\n",
    "    height = 10000.*np.ones((nx, ny))\n",
    "else:\n",
    "    print(\"Don't know what to do with initial_conditions=%f\" % initial_conditions); \n",
    "    sys.exit()"
   ]
  },
  {
   "cell_type": "code",
   "execution_count": 105,
   "metadata": {},
   "outputs": [
    {
     "data": {
      "text/plain": [
       "(252, 48)"
      ]
     },
     "execution_count": 105,
     "metadata": {},
     "output_type": "execute_result"
    }
   ],
   "source": [
    "h_new.shape"
   ]
  },
  {
   "cell_type": "code",
   "execution_count": 103,
   "metadata": {},
   "outputs": [
    {
     "data": {
      "text/plain": [
       "(254, 50)"
      ]
     },
     "execution_count": 103,
     "metadata": {},
     "output_type": "execute_result"
    }
   ],
   "source": [
    "hsrc.shape"
   ]
  },
  {
   "cell_type": "code",
   "execution_count": 106,
   "metadata": {},
   "outputs": [
    {
     "data": {
      "text/plain": [
       "(252, 48)"
      ]
     },
     "execution_count": 106,
     "metadata": {},
     "output_type": "execute_result"
    }
   ],
   "source": [
    "h_accel[1:-1,1:-1].shape"
   ]
  },
  {
   "cell_type": "code",
   "execution_count": 101,
   "metadata": {},
   "outputs": [
    {
     "name": "stdout",
     "output_type": "stream",
     "text": [
      "Time = 0.000000 hours (max 96.000000); max(|u|) = 0.000000\n"
     ]
    },
    {
     "ename": "ValueError",
     "evalue": "operands could not be broadcast together with shapes (252,48) (254,50) ",
     "output_type": "error",
     "traceback": [
      "\u001b[0;31m---------------------------------------------------------------------------\u001b[0m",
      "\u001b[0;31mValueError\u001b[0m                                Traceback (most recent call last)",
      "\u001b[0;32m<ipython-input-101-a6b85cab735a>\u001b[0m in \u001b[0;36m<module>\u001b[0;34m\u001b[0m\n\u001b[1;32m     78\u001b[0m \u001b[0;34m\u001b[0m\u001b[0m\n\u001b[1;32m     79\u001b[0m    \u001b[0;31m# Call the Lax-Wendroff scheme to move forward one timestep\u001b[0m\u001b[0;34m\u001b[0m\u001b[0;34m\u001b[0m\u001b[0m\n\u001b[0;32m---> 80\u001b[0;31m     \u001b[0;34m(\u001b[0m\u001b[0munew\u001b[0m\u001b[0;34m,\u001b[0m \u001b[0mvnew\u001b[0m\u001b[0;34m,\u001b[0m \u001b[0mh_new\u001b[0m\u001b[0;34m)\u001b[0m \u001b[0;34m=\u001b[0m \u001b[0mlw\u001b[0m\u001b[0;34m.\u001b[0m\u001b[0mlax_wendroff\u001b[0m\u001b[0;34m(\u001b[0m\u001b[0mdx\u001b[0m\u001b[0;34m,\u001b[0m \u001b[0mdy\u001b[0m\u001b[0;34m,\u001b[0m \u001b[0mdt\u001b[0m\u001b[0;34m,\u001b[0m \u001b[0mg\u001b[0m\u001b[0;34m,\u001b[0m \u001b[0mu\u001b[0m\u001b[0;34m,\u001b[0m \u001b[0mv\u001b[0m\u001b[0;34m,\u001b[0m \u001b[0mh\u001b[0m\u001b[0;34m,\u001b[0m \u001b[0mu_accel\u001b[0m\u001b[0;34m,\u001b[0m \u001b[0mv_accel\u001b[0m\u001b[0;34m,\u001b[0m \u001b[0mh_accel\u001b[0m\u001b[0;34m)\u001b[0m\u001b[0;34m;\u001b[0m\u001b[0;34m\u001b[0m\u001b[0m\n\u001b[0m\u001b[1;32m     81\u001b[0m \u001b[0;34m\u001b[0m\u001b[0m\n\u001b[1;32m     82\u001b[0m    \u001b[0;31m# Update the wind and height fields, taking care to enforce\u001b[0m\u001b[0;34m\u001b[0m\u001b[0;34m\u001b[0m\u001b[0m\n",
      "\u001b[0;32m~/Desktop/jupyter/ATM651_IntroAtmDynamics/SWE_notebook/lax_wendroff_Hsrc.py\u001b[0m in \u001b[0;36mlax_wendroff\u001b[0;34m(dx, dy, dt, g, u, v, h, u_tendency, v_tendency, h_tendency)\u001b[0m\n\u001b[1;32m     32\u001b[0m       \u001b[0;34m-\u001b[0m \u001b[0;34m(\u001b[0m\u001b[0mdt\u001b[0m\u001b[0;34m/\u001b[0m\u001b[0mdx\u001b[0m\u001b[0;34m)\u001b[0m\u001b[0;34m*\u001b[0m\u001b[0;34m(\u001b[0m\u001b[0muh_mid_xt\u001b[0m\u001b[0;34m[\u001b[0m\u001b[0;36m1\u001b[0m\u001b[0;34m:\u001b[0m\u001b[0;34m,\u001b[0m\u001b[0;36m1\u001b[0m\u001b[0;34m:\u001b[0m\u001b[0;34m-\u001b[0m\u001b[0;36m1\u001b[0m\u001b[0;34m]\u001b[0m\u001b[0;34m-\u001b[0m\u001b[0muh_mid_xt\u001b[0m\u001b[0;34m[\u001b[0m\u001b[0;36m0\u001b[0m\u001b[0;34m:\u001b[0m\u001b[0;34m-\u001b[0m\u001b[0;36m1\u001b[0m\u001b[0;34m,\u001b[0m\u001b[0;36m1\u001b[0m\u001b[0;34m:\u001b[0m\u001b[0;34m-\u001b[0m\u001b[0;36m1\u001b[0m\u001b[0;34m]\u001b[0m\u001b[0;34m)\u001b[0m\u001b[0;31m \u001b[0m\u001b[0;31m\\\u001b[0m\u001b[0;34m\u001b[0m\u001b[0m\n\u001b[1;32m     33\u001b[0m       \u001b[0;34m-\u001b[0m \u001b[0;34m(\u001b[0m\u001b[0mdt\u001b[0m\u001b[0;34m/\u001b[0m\u001b[0mdy\u001b[0m\u001b[0;34m)\u001b[0m\u001b[0;34m*\u001b[0m\u001b[0;34m(\u001b[0m\u001b[0mvh_mid_yt\u001b[0m\u001b[0;34m[\u001b[0m\u001b[0;36m1\u001b[0m\u001b[0;34m:\u001b[0m\u001b[0;34m-\u001b[0m\u001b[0;36m1\u001b[0m\u001b[0;34m,\u001b[0m\u001b[0;36m1\u001b[0m\u001b[0;34m:\u001b[0m\u001b[0;34m]\u001b[0m\u001b[0;34m-\u001b[0m\u001b[0mvh_mid_yt\u001b[0m\u001b[0;34m[\u001b[0m\u001b[0;36m1\u001b[0m\u001b[0;34m:\u001b[0m\u001b[0;34m-\u001b[0m\u001b[0;36m1\u001b[0m\u001b[0;34m,\u001b[0m\u001b[0;36m0\u001b[0m\u001b[0;34m:\u001b[0m\u001b[0;34m-\u001b[0m\u001b[0;36m1\u001b[0m\u001b[0;34m]\u001b[0m\u001b[0;34m)\u001b[0m\u001b[0;31m \u001b[0m\u001b[0;31m\\\u001b[0m\u001b[0;34m\u001b[0m\u001b[0m\n\u001b[0;32m---> 34\u001b[0;31m       \u001b[0;34m+\u001b[0m \u001b[0;34m(\u001b[0m\u001b[0mdt\u001b[0m\u001b[0;34m)\u001b[0m\u001b[0;34m*\u001b[0m\u001b[0mh_tendency\u001b[0m\u001b[0;34m[\u001b[0m\u001b[0;36m1\u001b[0m\u001b[0;34m:\u001b[0m\u001b[0;34m-\u001b[0m\u001b[0;36m1\u001b[0m\u001b[0;34m,\u001b[0m\u001b[0;36m1\u001b[0m\u001b[0;34m:\u001b[0m\u001b[0;34m-\u001b[0m\u001b[0;36m1\u001b[0m\u001b[0;34m]\u001b[0m\u001b[0;34m;\u001b[0m\u001b[0;34m\u001b[0m\u001b[0m\n\u001b[0m\u001b[1;32m     35\u001b[0m \u001b[0;34m\u001b[0m\u001b[0m\n\u001b[1;32m     36\u001b[0m \u001b[0;34m\u001b[0m\u001b[0m\n",
      "\u001b[0;31mValueError\u001b[0m: operands could not be broadcast together with shapes (252,48) (254,50) "
     ]
    }
   ],
   "source": [
    "# Coriolis parameter as a matrix of values varying in y only\n",
    "F = f+beta*(Y-np.mean(y));\n",
    "\n",
    "# Initialize the wind to rest\n",
    "u=np.zeros((nx, ny));\n",
    "v=np.zeros((nx, ny));\n",
    "\n",
    "# We may need to add small-amplitude random noise in order to initialize \n",
    "# instability\n",
    "if add_random_height_noise:\n",
    "    r,c=np.shape(height)\n",
    "    height = height + 1.0*np.random.randn(r,c)*(dx/1.0e5)*(np.abs(F)/1e-4);\n",
    "\n",
    "\n",
    "if initially_geostrophic:\n",
    "\n",
    "    # Centred spatial differences to compute geostrophic wind\n",
    "    u[:,1:-1] = -(0.5*g/(F[:,1:-1]*dx)) \\\n",
    "        * (height[:,2:]-height[:,0:-2]);\n",
    "    v[1:-1,:] = (0.5*g/(F[1:-1,:]*dx)) \\\n",
    "        * (height[2:,:]-height[0:-2,:]);\n",
    "    # Zonal wind is periodic so set u(1) and u(end) as dummy points that\n",
    "    # replicate u(end-1) and u(2), respectively\n",
    "    u[[0 ,-1],:] = u[[1 ,-2],:];\n",
    "    # Meridional wind must be zero at the north and south edges of the\n",
    "    # channel \n",
    "    v[:,[0, -1]] = 0.;\n",
    "\n",
    "    # Don't allow the initial wind speed to exceed 200 m/s anywhere\n",
    "    max_wind = 200.;\n",
    "    u[np.where(u>max_wind)] = max_wind;\n",
    "    u[np.where(u<-max_wind)] = -max_wind;\n",
    "    v[np.where(v>max_wind)] = max_wind;\n",
    "    v[np.where(v<-max_wind)] = -max_wind;\n",
    "\n",
    "\n",
    "# Define h as the depth of the fluid (whereas \"height\" is the height of\n",
    "# the upper surface)\n",
    "h = height - H;\n",
    "\n",
    "# Initialize the 3D arrays where the output data will be stored\n",
    "u_save = np.zeros((nx, ny, noutput));\n",
    "v_save = np.zeros((nx, ny, noutput));\n",
    "h_save = np.zeros((nx, ny, noutput));\n",
    "t_save = np.zeros((noutput,1));\n",
    "\n",
    "# Index to stored data\n",
    "i_save = 0;\n",
    "\n",
    "# external heat source adding to h equation\n",
    "hsrc = H.copy()\n",
    "hsrc[np.where(np.sqrt((X-np.mean(x))**2.+(Y-np.mean(y))**2.) <= 1000e3)] = 0.138 # m/mins\n",
    "\n",
    "# ------------------------------------------------------------------\n",
    "# SECTION 3: Main loop\n",
    "for n in range(0,nt):\n",
    "   # Every fixed number of timesteps we store the fields\n",
    "    if np.mod(n,timesteps_between_outputs) == 0:\n",
    "   \n",
    "        max_u = np.sqrt(np.max(u[:]*u[:]+v[:]*v[:]));\n",
    "      \n",
    "        print(\"Time = %f hours (max %f); max(|u|) = %f\"  \n",
    "           % ((n)*dt/3600., forecast_length_days*24., max_u) )\n",
    "   \n",
    "        u_save[:,:,i_save] = u;\n",
    "        v_save[:,:,i_save] = v;\n",
    "        h_save[:,:,i_save] = h;\n",
    "        t_save[i_save] = (n)*dt;\n",
    "        i_save = i_save+1;\n",
    "  \n",
    "\n",
    "   # Compute the accelerations\n",
    "    u_accel = F[1:-1,1:-1]*v[1:-1,1:-1] \\\n",
    "              - (g/(2.*dx))*(H[2:,1:-1]-H[0:-2,1:-1]);\n",
    "    v_accel = -F[1:-1,1:-1]*u[1:-1,1:-1] \\\n",
    "              - (g/(2.*dy))*(H[1:-1,2:]-H[1:-1,0:-2]);\n",
    "    h_accel = hsrc # height source (heating)\n",
    "\n",
    "   # Call the Lax-Wendroff scheme to move forward one timestep\n",
    "    (unew, vnew, h_new) = lw.lax_wendroff(dx, dy, dt, g, u, v, h, u_accel, v_accel, h_accel);\n",
    "\n",
    "   # Update the wind and height fields, taking care to enforce \n",
    "   # boundary conditions \n",
    "    \"\"\"\n",
    "    u = unew([end 1:end 1],[1 1:end end]);\n",
    "    v = vnew([end 1:end 1],[1 1:end end]);\n",
    "    v(:,[1 end]) = 0;\n",
    "    h(:,2:end-1) = h_new([end 1:end 1],:);\n",
    "    \"\"\"\n",
    "    u[1:-1,1:-1] = unew[0:,0:];\n",
    "    u[[-1,0],1:-1]  = unew[[0,-1],:]\n",
    "    u[1:-1,[0,-1]]  = unew[:,[0,-1]]\n",
    "\n",
    "    v[1:-1,1:-1] = vnew[0:,0:];\n",
    "    v[[-1,0],0]  = vnew[[0,-1],0]\n",
    "    v[1:-1,[0,-1]]  = vnew[:,[0,-1]]\n",
    "   \n",
    "    v[:,[0, -1]] = 0.;\n",
    "\n",
    "    h[1:-1,1:-1] = h_new[0:,0:];\n",
    "    h[[0,-1],1:-1]  = h_new[[-1,0],:]\n",
    "\n",
    "\n",
    "print('Run completed successfully');"
   ]
  },
  {
   "cell_type": "markdown",
   "metadata": {},
   "source": [
    "### plot and save figures"
   ]
  },
  {
   "cell_type": "code",
   "execution_count": 15,
   "metadata": {},
   "outputs": [
    {
     "name": "stdout",
     "output_type": "stream",
     "text": [
      "Maximum orography height = 0.000000 m\n"
     ]
    },
    {
     "data": {
      "image/png": "[encoded data removed]",
      "text/plain": [
       "<Figure size 864x720 with 4 Axes>"
      ]
     },
     "metadata": {
      "needs_background": "light"
     },
     "output_type": "display_data"
    }
   ],
   "source": [
    "import matplotlib.pyplot as plt\n",
    "from matplotlib import rc\n",
    "\n",
    "# create a folder in the current directory\n",
    "os.system('rm -r fig');os.system('mkdir fig')\n",
    "\n",
    "#f,(ax1, ax2) = plt.subplots(2, sharex=True, sharey=False)\n",
    "f=plt.figure(figsize=(12,10))\n",
    "ax1=plt.subplot(2,1,1)\n",
    "ax2=plt.subplot(2,1,2)\n",
    "\n",
    "#ax1.autoscale(enable=True, axis='y', tight=True)\n",
    "\n",
    "# Axis units are thousands of kilometers (x and y are in metres)\n",
    "x_1000km = x * 1.e-6\n",
    "y_1000km = y * 1.e-6\n",
    "\n",
    "# Set colormap to have 64 entries\n",
    "ncol=64;\n",
    "\n",
    "# Interval between arrows in the velocity vector plot\n",
    "interval = 6;\n",
    "\n",
    "# Set this to \"True\" to save each frame as a png file\n",
    "plot_frames = False;\n",
    "\n",
    "# Decide whether to show height in metres or km\n",
    "if np.mean(plot_height_range) > 1000:\n",
    "    height_scale = 0.001;\n",
    "    height_title = 'Height (km)';\n",
    "else:\n",
    "    height_scale = 1;\n",
    "    height_title = 'Height (m)';\n",
    "\n",
    "\n",
    "print('Maximum orography height = %f m' % np.max(H[:]));\n",
    "u = np.squeeze(u_save[:,:,0]);\n",
    "vorticity = np.zeros(np.shape(u));\n",
    "\n",
    "# Loop through the frames of the animation\n",
    "for it in range(0,noutput):\n",
    "\n",
    "    # Extract the height and velocity components for this frame\n",
    "    h = np.squeeze(h_save[:,:,it]);\n",
    "    u = np.squeeze(u_save[:,:,it]);\n",
    "    v = np.squeeze(v_save[:,:,it]);\n",
    "\n",
    "    # Compute the vorticity\n",
    "    vorticity[1:-1,1:-1] = (1./dy)*(u[1:-1,0:-2]-u[1:-1,2:]) \\\n",
    "      + (1./dx)*(v[2:,1:-1]-v[0:-2,1:-1]);\n",
    "    # First plot the height field\n",
    "\n",
    "    if it==0:\n",
    "\n",
    "        # Plot the height field\n",
    "        im=ax1.imshow(np.transpose(h+H)*height_scale, \\\n",
    "         extent=[np.min(x_1000km),np.max(x_1000km),np.min(y_1000km),np.max(y_1000km)], \\\n",
    "         cmap='jet')\n",
    "        # Set other axes properties and plot a colorbar\n",
    "        cb1=plt.colorbar(im,ax=ax1,shrink=0.5)\n",
    "        cb1.set_label('height (km)')\n",
    "        # Contour the terrain:\n",
    "        cs=ax1.contour(x_1000km,y_1000km,np.transpose(H),levels=np.arange(0,10000,1000),colors='k')\n",
    "\n",
    "        # Plot the velocity vectors\n",
    "        Q = ax1.quiver(x_1000km[2::interval],y_1000km[2::interval], \\\n",
    "         np.transpose(u[2::interval,2::interval]), \\\n",
    "         np.transpose(v[2::interval,2::interval]), scale=5e2,scale_units='xy',pivot='mid')\n",
    "        ax1.set_ylabel('Y distance (1000s of km)');\n",
    "        ax1.set_title(height_title);\n",
    "        tx1=ax1.text(0, np.max(y_1000km), 'Time = %.1f hours' % (t_save[it]/3600.));\n",
    "\n",
    "        # Now plot the vorticity\n",
    "        im2=ax2.imshow(np.transpose(vorticity), \\\n",
    "         extent=[np.min(x_1000km),np.max(x_1000km),np.min(y_1000km),np.max(y_1000km)], \\\n",
    "         cmap='jet',vmax=1e-5,vmin=-1e-5)\n",
    "        # Set other axes properties and plot a colorbar\n",
    "        cb2=plt.colorbar(im2,ax=ax2,shrink=0.5)\n",
    "        cb2.set_label('vorticity (s$^{-1}$)')\n",
    "        ax2.set_xlabel('X distance (1000s of km)');\n",
    "        ax2.set_ylabel('Y distance (1000s of km)');\n",
    "        ax2.set_title('Relative vorticity (s$^{-1}$)');\n",
    "        tx2=ax2.text(0, np.max(y_1000km), 'Time = %.1f hours' % (t_save[it]/3600.));\n",
    "        \n",
    "        plt.tight_layout()\n",
    "\n",
    "    else:\n",
    "        # top plot:\n",
    "        im.set_data(np.transpose(H+h)*height_scale)\n",
    "        cs.set_array(np.transpose(h))\n",
    "        Q.set_UVC(np.transpose(u[2::interval,2::interval]), \\\n",
    "               np.transpose(v[2::interval,2::interval]))\n",
    "        tx1.set_text('Time = %.1f hours' % (t_save[it]/3600.));\n",
    "\n",
    "        # bottom plot:\n",
    "        im2.set_data(np.transpose(vorticity))\n",
    "        tx2.set_text('Time = %.1f hours' % (t_save[it]/3600.));\n",
    "\n",
    "    im.set_clim((plot_height_range*height_scale));\n",
    "    im2.set_clim((-1e-5,1e-5));\n",
    "    ax1.axis((0., np.max(x_1000km), 0., np.max(y_1000km)));\n",
    "    ax2.axis((0., np.max(x_1000km), 0., np.max(y_1000km)));\n",
    "    \n",
    "    # To make an animation we can save the frames as a \n",
    "    # sequence of images\n",
    "    if plot_frames:\n",
    "        plt.savefig('./fig/frame%03d.png' % it,format='png',dpi=200)\n",
    "\n",
    "    plt.pause(0.1)"
   ]
  },
  {
   "cell_type": "code",
   "execution_count": 8,
   "metadata": {},
   "outputs": [
    {
     "name": "stdout",
     "output_type": "stream",
     "text": [
      "./fig/frame000.png ./fig/frame025.png ./fig/frame050.png ./fig/frame075.png\r\n",
      "./fig/frame001.png ./fig/frame026.png ./fig/frame051.png ./fig/frame076.png\r\n",
      "./fig/frame002.png ./fig/frame027.png ./fig/frame052.png ./fig/frame077.png\r\n",
      "./fig/frame003.png ./fig/frame028.png ./fig/frame053.png ./fig/frame078.png\r\n",
      "./fig/frame004.png ./fig/frame029.png ./fig/frame054.png ./fig/frame079.png\r\n",
      "./fig/frame005.png ./fig/frame030.png ./fig/frame055.png ./fig/frame080.png\r\n",
      "./fig/frame006.png ./fig/frame031.png ./fig/frame056.png ./fig/frame081.png\r\n",
      "./fig/frame007.png ./fig/frame032.png ./fig/frame057.png ./fig/frame082.png\r\n",
      "./fig/frame008.png ./fig/frame033.png ./fig/frame058.png ./fig/frame083.png\r\n",
      "./fig/frame009.png ./fig/frame034.png ./fig/frame059.png ./fig/frame084.png\r\n",
      "./fig/frame010.png ./fig/frame035.png ./fig/frame060.png ./fig/frame085.png\r\n",
      "./fig/frame011.png ./fig/frame036.png ./fig/frame061.png ./fig/frame086.png\r\n",
      "./fig/frame012.png ./fig/frame037.png ./fig/frame062.png ./fig/frame087.png\r\n",
      "./fig/frame013.png ./fig/frame038.png ./fig/frame063.png ./fig/frame088.png\r\n",
      "./fig/frame014.png ./fig/frame039.png ./fig/frame064.png ./fig/frame089.png\r\n",
      "./fig/frame015.png ./fig/frame040.png ./fig/frame065.png ./fig/frame090.png\r\n",
      "./fig/frame016.png ./fig/frame041.png ./fig/frame066.png ./fig/frame091.png\r\n",
      "./fig/frame017.png ./fig/frame042.png ./fig/frame067.png ./fig/frame092.png\r\n",
      "./fig/frame018.png ./fig/frame043.png ./fig/frame068.png ./fig/frame093.png\r\n",
      "./fig/frame019.png ./fig/frame044.png ./fig/frame069.png ./fig/frame094.png\r\n",
      "./fig/frame020.png ./fig/frame045.png ./fig/frame070.png ./fig/frame095.png\r\n",
      "./fig/frame021.png ./fig/frame046.png ./fig/frame071.png ./fig/frame096.png\r\n",
      "./fig/frame022.png ./fig/frame047.png ./fig/frame072.png\r\n",
      "./fig/frame023.png ./fig/frame048.png ./fig/frame073.png\r\n",
      "./fig/frame024.png ./fig/frame049.png ./fig/frame074.png\r\n"
     ]
    }
   ],
   "source": [
    "!ls ./fig/*png"
   ]
  },
  {
   "cell_type": "code",
   "execution_count": 71,
   "metadata": {
    "scrolled": true
   },
   "outputs": [],
   "source": [
    "hsrc = H.copy()\n",
    "hsrc[np.where(np.sqrt((X-np.mean(x))**2.+(Y-np.mean(y))**2.) <= 1000e3)]=50/s;"
   ]
  },
  {
   "cell_type": "code",
   "execution_count": 72,
   "metadata": {},
   "outputs": [
    {
     "data": {
      "text/plain": [
       "<matplotlib.image.AxesImage at 0xb1f462470>"
      ]
     },
     "execution_count": 72,
     "metadata": {},
     "output_type": "execute_result"
    },
    {
     "data": {
      "image/png": "[encoded data removed]",
      "text/plain": [
       "<Figure size 432x288 with 1 Axes>"
      ]
     },
     "metadata": {
      "needs_background": "light"
     },
     "output_type": "display_data"
    }
   ],
   "source": [
    "plt.imshow(hsrc.transpose())"
   ]
  },
  {
   "cell_type": "code",
   "execution_count": 62,
   "metadata": {},
   "outputs": [
    {
     "data": {
      "text/plain": [
       "0.0"
      ]
     },
     "execution_count": 62,
     "metadata": {},
     "output_type": "execute_result"
    }
   ],
   "source": [
    "hsrc.max()"
   ]
  },
  {
   "cell_type": "code",
   "execution_count": null,
   "metadata": {},
   "outputs": [],
   "source": []
  }
 ],
 "metadata": {
  "kernelspec": {
   "display_name": "Python 3",
   "language": "python",
   "name": "python3"
  },
  "language_info": {
   "codemirror_mode": {
    "name": "ipython",
    "version": 3
   },
   "file_extension": ".py",
   "mimetype": "text/x-python",
   "name": "python",
   "nbconvert_exporter": "python",
   "pygments_lexer": "ipython3",
   "version": "3.6.6"
  }
 },
 "nbformat": 4,
 "nbformat_minor": 2
}
